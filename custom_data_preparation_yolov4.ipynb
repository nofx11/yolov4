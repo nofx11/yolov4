{
 "cells": [
  {
   "cell_type": "code",
   "execution_count": 3,
   "metadata": {},
   "outputs": [
    {
     "name": "stdout",
     "output_type": "stream",
     "text": [
      "Cloning into 'OIDv4_ToolKit'...\n",
      "remote: Enumerating objects: 8, done.\u001b[K\n",
      "remote: Counting objects: 100% (8/8), done.\u001b[K\n",
      "remote: Compressing objects: 100% (5/5), done.\u001b[K\n",
      "remote: Total 431 (delta 2), reused 6 (delta 1), pack-reused 423\u001b[K\n",
      "Receiving objects: 100% (431/431), 34.08 MiB | 48.14 MiB/s, done.\n",
      "Resolving deltas: 100% (148/148), done.\n"
     ]
    }
   ],
   "source": [
    "!git clone https://github.com/nofx11/OIDv4_ToolKit.git"
   ]
  },
  {
   "cell_type": "code",
   "execution_count": 5,
   "metadata": {},
   "outputs": [
    {
     "name": "stdout",
     "output_type": "stream",
     "text": [
      "/home/jupyter/yolov4/OIDv4_ToolKit\n"
     ]
    }
   ],
   "source": [
    "cd OIDv4_ToolKit"
   ]
  },
  {
   "cell_type": "code",
   "execution_count": 4,
   "metadata": {},
   "outputs": [],
   "source": [
    "# RUN IN TERMINAL"
   ]
  },
  {
   "cell_type": "code",
   "execution_count": null,
   "metadata": {},
   "outputs": [],
   "source": [
    "#in terminal\n",
    "cd OIDv4_ToolKit\n",
    "python main.py downloader --classes 'Vehicle registration plate' --type_csv train --limit 1500"
   ]
  },
  {
   "cell_type": "code",
   "execution_count": null,
   "metadata": {},
   "outputs": [],
   "source": [
    "#in terminal\n",
    "python main.py downloader --classes 'Vehicle registration plate' --type_csv validation --limit 300"
   ]
  },
  {
   "cell_type": "code",
   "execution_count": 6,
   "metadata": {},
   "outputs": [],
   "source": [
    "classes = ['Vehicle registration plate']\n",
    "\n",
    "with open(\"classes.txt\", \"w\") as f:\n",
    "    for c in classes:\n",
    "        f.write(\"{}\\n\".format(c))"
   ]
  },
  {
   "cell_type": "code",
   "execution_count": 7,
   "metadata": {},
   "outputs": [
    {
     "name": "stdout",
     "output_type": "stream",
     "text": [
      "Currently in subdirectory: validation\n",
      "Converting annotations for class:  Vehicle registration plate\n",
      "0it [00:00, ?it/s]\n",
      "Currently in subdirectory: train\n",
      "Converting annotations for class:  Vehicle registration plate\n",
      "0it [00:00, ?it/s]\n"
     ]
    }
   ],
   "source": [
    "!python convert_annotations.py"
   ]
  },
  {
   "cell_type": "code",
   "execution_count": 8,
   "metadata": {},
   "outputs": [],
   "source": [
    "!rm -r OID/Dataset/train/'Vehicle registration plate'/Label/"
   ]
  },
  {
   "cell_type": "code",
   "execution_count": 9,
   "metadata": {},
   "outputs": [],
   "source": [
    "!rm -r OID/Dataset/validation/'Vehicle registration plate'/Label/"
   ]
  },
  {
   "cell_type": "code",
   "execution_count": 10,
   "metadata": {},
   "outputs": [],
   "source": [
    "#file reaname\n",
    "import os\n",
    "os.rename('OID/Dataset/train/Vehicle registration plate', 'OID/Dataset/train/train')"
   ]
  },
  {
   "cell_type": "code",
   "execution_count": 11,
   "metadata": {},
   "outputs": [],
   "source": [
    "os.rename('OID/Dataset/validation/Vehicle registration plate', 'OID/Dataset/validation/test')"
   ]
  },
  {
   "cell_type": "code",
   "execution_count": null,
   "metadata": {},
   "outputs": [],
   "source": [
    "# ziping files"
   ]
  },
  {
   "cell_type": "code",
   "execution_count": null,
   "metadata": {},
   "outputs": [],
   "source": [
    "import shutil\n",
    "dir_name = 'OID/Dataset/train/train'\n",
    "output_filename = dir_name\n",
    "\n",
    "shutil.make_archive(output_filename, 'zip', dir_name)"
   ]
  },
  {
   "cell_type": "code",
   "execution_count": null,
   "metadata": {},
   "outputs": [],
   "source": [
    "import shutil\n",
    "dir_name = 'OID/Dataset/validation/test'\n",
    "output_filename = dir_name\n",
    "\n",
    "shutil.make_archive(output_filename, 'zip', dir_name)"
   ]
  },
  {
   "cell_type": "code",
   "execution_count": 21,
   "metadata": {},
   "outputs": [],
   "source": [
    "#save zip files to dartknet/data folder - step 6 in custom training"
   ]
  },
  {
   "cell_type": "code",
   "execution_count": null,
   "metadata": {},
   "outputs": [],
   "source": [
    "gsutil cp -r gs://danpol-test/train.zip OIDv4_ToolKit/OID/Dataset/train/"
   ]
  },
  {
   "cell_type": "code",
   "execution_count": null,
   "metadata": {},
   "outputs": [],
   "source": [
    "gsutil cp -r gs://danpol-test/test.zip OIDv4_ToolKit/OID/Dataset/validation/"
   ]
  }
 ],
 "metadata": {
  "environment": {
   "name": "tf2-gpu.2-1.m59",
   "type": "gcloud",
   "uri": "gcr.io/deeplearning-platform-release/tf2-gpu.2-1:m59"
  },
  "kernelspec": {
   "display_name": "Python 3",
   "language": "python",
   "name": "python3"
  },
  "language_info": {
   "codemirror_mode": {
    "name": "ipython",
    "version": 3
   },
   "file_extension": ".py",
   "mimetype": "text/x-python",
   "name": "python",
   "nbconvert_exporter": "python",
   "pygments_lexer": "ipython3",
   "version": "3.7.8"
  },
  "toc": {
   "base_numbering": 1,
   "nav_menu": {},
   "number_sections": true,
   "sideBar": true,
   "skip_h1_title": false,
   "title_cell": "Table of Contents",
   "title_sidebar": "Contents",
   "toc_cell": false,
   "toc_position": {},
   "toc_section_display": true,
   "toc_window_display": false
  }
 },
 "nbformat": 4,
 "nbformat_minor": 4
}
