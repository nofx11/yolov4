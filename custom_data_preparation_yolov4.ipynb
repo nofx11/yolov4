{
 "cells": [
  {
   "cell_type": "code",
   "execution_count": 5,
   "metadata": {},
   "outputs": [
    {
     "name": "stdout",
     "output_type": "stream",
     "text": [
      "Cloning into 'OIDv4_ToolKit'...\n",
      "remote: Enumerating objects: 422, done.\u001b[K\n",
      "remote: Total 422 (delta 0), reused 0 (delta 0), pack-reused 422\u001b[K\n",
      "Receiving objects: 100% (422/422), 34.08 MiB | 11.92 MiB/s, done.\n",
      "Resolving deltas: 100% (146/146), done.\n"
     ]
    }
   ],
   "source": [
    "!git clone https://github.com/nofx11/OIDv4_ToolKit.git"
   ]
  },
  {
   "cell_type": "code",
   "execution_count": 6,
   "metadata": {},
   "outputs": [
    {
     "name": "stdout",
     "output_type": "stream",
     "text": [
      "/Users/danielpolonski/Documents/projects/Testy/plate_detector_with_OCR/yolov4/OIDv4_ToolKit\n"
     ]
    }
   ],
   "source": [
    "cd OIDv4_ToolKit"
   ]
  },
  {
   "cell_type": "code",
   "execution_count": null,
   "metadata": {},
   "outputs": [],
   "source": [
    "#in terminal\n",
    "!python main.py downloader --classes 'Vehicle registration plate' --type_csv train --limit 1500"
   ]
  },
  {
   "cell_type": "code",
   "execution_count": null,
   "metadata": {},
   "outputs": [],
   "source": [
    "#in terminal\n",
    "!python main.py downloader --classes 'Vehicle registration plate' --type_csv validation --limit 300"
   ]
  },
  {
   "cell_type": "code",
   "execution_count": 13,
   "metadata": {},
   "outputs": [],
   "source": [
    "classes = ['Vehicle registration plate']\n",
    "\n",
    "with open(\"classes.txt\", \"w\") as f:\n",
    "    for c in classes:\n",
    "        f.write(\"{}\\n\".format(c))"
   ]
  },
  {
   "cell_type": "code",
   "execution_count": null,
   "metadata": {},
   "outputs": [],
   "source": [
    "#in terminal\n",
    "!python convert_annotations.py"
   ]
  },
  {
   "cell_type": "code",
   "execution_count": 14,
   "metadata": {},
   "outputs": [],
   "source": [
    "!rm -r OID/Dataset/train/'Vehicle registration plate'/Label/"
   ]
  },
  {
   "cell_type": "code",
   "execution_count": 15,
   "metadata": {},
   "outputs": [],
   "source": [
    "!rm -r OID/Dataset/validation/'Vehicle registration plate'/Label/"
   ]
  },
  {
   "cell_type": "code",
   "execution_count": 16,
   "metadata": {},
   "outputs": [],
   "source": [
    "#file reaname\n",
    "import os\n",
    "os.rename('OID/Dataset/train/Vehicle registration plate', 'OID/Dataset/train/train')"
   ]
  },
  {
   "cell_type": "code",
   "execution_count": 17,
   "metadata": {},
   "outputs": [],
   "source": [
    "os.rename('OID/Dataset/validation/Vehicle registration plate', 'OID/Dataset/validation/test')"
   ]
  },
  {
   "cell_type": "code",
   "execution_count": null,
   "metadata": {},
   "outputs": [],
   "source": [
    "# ziping files"
   ]
  },
  {
   "cell_type": "code",
   "execution_count": 19,
   "metadata": {},
   "outputs": [
    {
     "data": {
      "text/plain": [
       "'/Users/danielpolonski/Documents/projects/Testy/plate_detector_with_OCR/yolov4/OIDv4_ToolKit/OID/Dataset/train/train.zip'"
      ]
     },
     "execution_count": 19,
     "metadata": {},
     "output_type": "execute_result"
    }
   ],
   "source": [
    "import shutil\n",
    "dir_name = 'OID/Dataset/train/train'\n",
    "output_filename = dir_name\n",
    "\n",
    "shutil.make_archive(output_filename, 'zip', dir_name)"
   ]
  },
  {
   "cell_type": "code",
   "execution_count": 20,
   "metadata": {},
   "outputs": [
    {
     "data": {
      "text/plain": [
       "'/Users/danielpolonski/Documents/projects/Testy/plate_detector_with_OCR/yolov4/OIDv4_ToolKit/OID/Dataset/validation/test.zip'"
      ]
     },
     "execution_count": 20,
     "metadata": {},
     "output_type": "execute_result"
    }
   ],
   "source": [
    "import shutil\n",
    "dir_name = 'OID/Dataset/validation/test'\n",
    "output_filename = dir_name\n",
    "\n",
    "shutil.make_archive(output_filename, 'zip', dir_name)"
   ]
  },
  {
   "cell_type": "code",
   "execution_count": 21,
   "metadata": {},
   "outputs": [],
   "source": [
    "#save zip files to dartknet/data folder - step 6 in custom training"
   ]
  },
  {
   "cell_type": "code",
   "execution_count": null,
   "metadata": {},
   "outputs": [],
   "source": []
  }
 ],
 "metadata": {
  "kernelspec": {
   "display_name": "Python 3",
   "language": "python",
   "name": "python3"
  },
  "language_info": {
   "codemirror_mode": {
    "name": "ipython",
    "version": 3
   },
   "file_extension": ".py",
   "mimetype": "text/x-python",
   "name": "python",
   "nbconvert_exporter": "python",
   "pygments_lexer": "ipython3",
   "version": "3.7.6"
  },
  "toc": {
   "base_numbering": 1,
   "nav_menu": {},
   "number_sections": true,
   "sideBar": true,
   "skip_h1_title": false,
   "title_cell": "Table of Contents",
   "title_sidebar": "Contents",
   "toc_cell": false,
   "toc_position": {},
   "toc_section_display": true,
   "toc_window_display": false
  }
 },
 "nbformat": 4,
 "nbformat_minor": 4
}
